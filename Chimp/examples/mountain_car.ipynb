{
 "cells": [
  {
   "cell_type": "markdown",
   "metadata": {},
   "source": [
    "## Mountain Car Tutorial: Chimp for Beginners\n",
    "This tutrial provides a step-by-step guide on how to define a simple reinforcement learning problem and use Chimp to solve it. We use the classic [mountain car](https://en.wikipedia.org/wiki/Mountain_Car) problem. In mountain car, you are controlling a car that is trying to get to the top of the hill. The car can accelerate forward, accelerate backwar, or do nothing. The challange lies in the fact that the car can't go directly up the hill (boo gravity), and must learn to move back and forth to get to the top.\n",
    "\n",
    "If you have a problem that you would like to solve using deep reinforcement learning, there are two things you must define: a simulator and the deep Q-Network (DQN) model. "
   ]
  },
  {
   "cell_type": "markdown",
   "metadata": {},
   "source": [
    "## Defining a Simulator Class\n",
    "The simulator class serves as a generative model that's used by chimp. It provides acess to the dynamics and the reward structures of the problem. \n",
    "\n",
    "Your simulator class must contain the following functions:\n",
    "```python\n",
    "def act(a): \n",
    "    # transitions the simulator by performing the action a\n",
    "    pass\n",
    "    \n",
    "def reward():\n",
    "    # returns the reward R(s,a) where s is the state before calling act, and a is the action passed to act\n",
    "    pass\n",
    "    \n",
    "def get_screenshot():\n",
    "    # returns the current state of the system\n",
    "    pass\n",
    "    \n",
    "def episode_over():\n",
    "    # returns true if the current state is terminal, false otherwise\n",
    "    pass\n",
    "    \n",
    "def reset_episode():\n",
    "    # reinitializes the current state and reward\n",
    "    pass\n",
    "\n",
    "```\n",
    "Your simulator class must also contain the following fields:\n",
    "```python\n",
    "    n_actions # the number of actions availble to the agent\n",
    "    model_dims # tuple containing the model dimensions for the state of the system\n",
    "```\n"
   ]
  },
  {
   "cell_type": "code",
   "execution_count": 1,
   "metadata": {
    "collapsed": true
   },
   "outputs": [],
   "source": [
    "# Inline for plotting\n",
    "%matplotlib inline"
   ]
  },
  {
   "cell_type": "code",
   "execution_count": 2,
   "metadata": {
    "collapsed": false
   },
   "outputs": [],
   "source": [
    "##########################################################\n",
    "################### MOUNTAIN CAR #########################\n",
    "##########################################################\n",
    "\n",
    "# you can find this source code in chimp/simulators/mdp/mountain_car.py \n",
    "#                              and chimp/simulators/mdp/mdp_simulator.py\n",
    "\n",
    "import numpy as np\n",
    "\n",
    "class MountainCar():\n",
    "    \n",
    "    def __init__(self,\n",
    "               term_r = 10.0,\n",
    "               nonterm_r = -1.0,\n",
    "               discount = 0.95):\n",
    "        \n",
    "        # initialize fields required by Chimp\n",
    "        self.n_actions = 3\n",
    "        self.model_dims = (2,)\n",
    "        \n",
    "        # initialize simulator vars\n",
    "        self.current_state = np.zeros(2, dtype=np.float32) # must be float 32\n",
    "        self.last_reward = 0.0\n",
    "        \n",
    "        # initialize mountain car constants\n",
    "        self.actions = np.array([-1.0, 0.0, 1.0])\n",
    "        self.vmin, self.vmax = (-0.07, 0.07)\n",
    "        self.xmin, self.xmax = (-1.2, 0.6)\n",
    "        self.term_r = term_r\n",
    "        self.nonterm_r = nonterm_r\n",
    "        \n",
    "    def act(self, a):\n",
    "        \"\"\"\n",
    "        Transitions to the next state and computes the reward\n",
    "        \"\"\"\n",
    "        x_old, v_old = self.current_state\n",
    "        \n",
    "        # compute the reward\n",
    "        r = self.term_r if x_old >= self.xmax else self.nonterm_r \n",
    "        \n",
    "        # transition the state\n",
    "        v = v_old + 0.001 * self.actions[a] - 0.0025 * np.cos(3 * x_old) \n",
    "        v = np.clip(v, self.vmin, self.vmax)\n",
    "        x = x_old + v\n",
    "        x = np.clip(x, self.xmin, self.xmax)\n",
    "        \n",
    "        self.last_reward = r\n",
    "        self.current_state[0] = x\n",
    "        self.current_state[1] = v\n",
    "        \n",
    "    def reward(self):\n",
    "        return self.last_reward\n",
    "        \n",
    "    def get_screenshot(self):\n",
    "        return self.current_state\n",
    "    \n",
    "    def episode_over(self):\n",
    "        \"\"\"\n",
    "        Checks if the car reached the top of the mountain\n",
    "        \"\"\"\n",
    "        if self.current_state[0] >= self.xmax:\n",
    "            return True\n",
    "        return False\n",
    "    \n",
    "    def reset_episode(self):\n",
    "        \"\"\"\n",
    "        Reinitializes the state of the car and the last reward\n",
    "        \"\"\"\n",
    "        self.current_state[0] = np.random.uniform(self.xmin, self.xmax*0.9)\n",
    "        self.current_state[1] = 0.0\n",
    "        self.last_reward = 0.0\n",
    "        \n",
    "    def simulate(self, nsteps, policy):\n",
    "        \"\"\"\n",
    "        Runs a simulation using the provided DQN policy for nsteps\n",
    "        \"\"\"\n",
    "        \n",
    "        self.reset_episode()\n",
    "        \n",
    "        rtot = 0.0\n",
    "        xpos = np.zeros(nsteps)\n",
    "        vel = np.zeros(nsteps)\n",
    "        # state must be in (1, dims) form for forward prop\n",
    "        input_state = np.zeros((1,2), dtype=np.float32) \n",
    "        # run the simulation\n",
    "        for i in xrange(nsteps):\n",
    "            state = simulator.get_screenshot()\n",
    "            input_state[0] = state\n",
    "            a = policy.action((input_state, None)) # input format for DQN is (state, action), don't use action\n",
    "            simulator.act(a)\n",
    "            r = simulator.reward()\n",
    "            rtot += r\n",
    "            xpos[i], vel[i] = state\n",
    "            if simulator.episode_over():\n",
    "                break\n",
    "        return rtot, xpos, vel\n",
    "\n",
    "    \n",
    "    "
   ]
  },
  {
   "cell_type": "markdown",
   "metadata": {},
   "source": [
    "## Defining the Deep Q-Network\n",
    "We use the [Chainer](https://github.com/pfnet/chainer) framework for training and defining the network used for the Q-value apporximation. Currently Chimp only supports Chainer (but TensorFlow support is on its way), so you must define the DQN using the Chainer API. A simple, fully connected network with two hidden layers, batch normalization and ReLU non-linearities looks like this:"
   ]
  },
  {
   "cell_type": "code",
   "execution_count": 3,
   "metadata": {
    "collapsed": false
   },
   "outputs": [],
   "source": [
    "import chainer\n",
    "import chainer.functions as F\n",
    "import chainer.links as L\n",
    "from chainer import cuda, Function, gradient_check, Variable, optimizers, serializers, utils\n",
    "from chainer import Link, Chain, ChainList\n",
    "\n",
    "class CarNet(Chain):\n",
    "\n",
    "    def __init__(self):\n",
    "        super(CarNet, self).__init__(\n",
    "            l1=F.Linear(2, 20), # 2 dimensional state space \n",
    "            bn1=L.BatchNormalization(20),\n",
    "            l2=F.Linear(20, 10),\n",
    "            bn2=L.BatchNormalization(10),\n",
    "            lout=F.Linear(10, 3) # 3 output actions\n",
    "        )\n",
    "        # need this variable for batch normalization and dropout\n",
    "        self.train = True\n",
    "        # init avg_var to prevent divide by zero during first forward pass in batch norm\n",
    "        self.bn1.avg_var.fill(0.1),\n",
    "        self.bn2.avg_var.fill(0.1),\n",
    "\n",
    "\n",
    "    def __call__(self, state, a):\n",
    "        # Chimp passes in actions by defult if requested, not used here\n",
    "        h = F.relu(self.l1(state))\n",
    "        h = self.bn1(h, test=not self.train)\n",
    "        h = F.relu(self.l2(h))\n",
    "        h = self.bn2(h, test=not self.train)\n",
    "        output = self.lout(h)\n",
    "        return output\n"
   ]
  },
  {
   "cell_type": "markdown",
   "metadata": {},
   "source": [
    "## Training the Deep Q-Network\n",
    "Chimp trains the DQN by interfacing with your simulator through a DQNAgent class. Chimp also provides a memory class for storing the replay memory, and a learner class that uses Chainer to do the training. Before starting the training, we have to define some hyper-parameters for the DQN:"
   ]
  },
  {
   "cell_type": "code",
   "execution_count": 4,
   "metadata": {
    "collapsed": true
   },
   "outputs": [],
   "source": [
    "settings = {\n",
    "\n",
    "    # agent settings\n",
    "    'batch_size' : 32, # size of minibatch\n",
    "    'print_every' : 1000, # frequency of text output\n",
    "    'save_dir' : 'results/mountain_car', # everything is saved here\n",
    "    'iterations' : 2001, # length of training (low value as an example)\n",
    "    'eval_iterations' : 100, # length of evaluation simulation\n",
    "    'eval_every' : 1000, # frequnecy of evaluation simulation\n",
    "    'save_every' : 20000, # frequency of network saving\n",
    "    'initial_exploration' : 50000, # number of trainstions initally in reaply memory\n",
    "    'epsilon_decay' : 0.000001, # subtract from epsilon every step\n",
    "    'eval_epsilon' : 0, # epsilon used in evaluation, 0 means no random actions\n",
    "    'epsilon' : 1.0,  # Initial exploratoin rate\n",
    "    'history_sizes' : (1, 0, 0), # sizes of histories to use as nn inputs (s, a, r)\n",
    "    'model_dims' : (2,),\n",
    "\n",
    "    # simulator settings\n",
    "    'viz' : False, # no visualization (used in Atari)\n",
    "\n",
    "    # replay memory settings\n",
    "    'memory_size' : 100000,  # size of replay memory\n",
    "\n",
    "    # learner settings\n",
    "    'learning_rate' : 0.00001, # learning rate used by the optimizer\n",
    "    'discount' : 0.95, # discount rate for RL\n",
    "    'clip_err' : False, # clip gradients\n",
    "    'clip_reward' : False, # value to clip reward values to\n",
    "    'target_net_update' : 1000, # frequnecy of target net updates\n",
    "    'optim_name' : 'ADAM', # currently supports \"RMSprop\", \"ADADELTA\", \"ADAM\" and \"SGD\"'\n",
    "    'gpu' : False, # not using GPU\n",
    "    'reward_rescale': False, # rescale rewards to [0,1]\n",
    "    'decay_rate' : 0.99, # decay rate for RMSprop, otherwise not used\n",
    "\n",
    "     # random number seeds\n",
    "    'seed_general' : 1723,\n",
    "    'seed_simulator' : 5632,\n",
    "    'seed_agent' : 9826,\n",
    "    'seed_memory' : 7563\n",
    "\n",
    "    }"
   ]
  },
  {
   "cell_type": "markdown",
   "metadata": {},
   "source": [
    "There are a lot of hyper-parameters, but most of them can be left to the default values. The ones to play around with are: iterations, eval_iteration, epsilon_decay, learning_rate, target_net_update. "
   ]
  },
  {
   "cell_type": "markdown",
   "metadata": {},
   "source": [
    "Now we are ready to train the DQN!"
   ]
  },
  {
   "cell_type": "code",
   "execution_count": 8,
   "metadata": {
    "collapsed": false
   },
   "outputs": [
    {
     "name": "stdout",
     "output_type": "stream",
     "text": [
      "Iteration: 0, Loss: 0.89, Average Q-Values: -0.00, Time since print: 0.04, Total runtime: 0.04, epsilon: 1.00\n",
      "Evaluation, total reward: -100.00, Reward per episode: -100.00\n",
      "Iteration: 1000, Loss: 0.53, Average Q-Values: -0.90, Time since print: 49.26, Total runtime: 49.29, epsilon: 1.00\n",
      "Evaluation, total reward: -100.00, Reward per episode: -100.00\n",
      "Iteration: 2000, Loss: 0.22, Average Q-Values: -0.84, Time since print: 48.92, Total runtime: 98.21, epsilon: 1.00\n",
      "Evaluation, total reward: -100.00, Reward per episode: -100.00\n",
      "Overall training + evaluation time: 98.4197359085\n"
     ]
    }
   ],
   "source": [
    "# Import the necessary Chimp modules\n",
    "\n",
    "# Memory\n",
    "from chimp.memories import ReplayMemoryHDF5\n",
    "\n",
    "# Learner (Brain)\n",
    "from chimp.learners.dqn_learner import DQNLearner\n",
    "from chimp.learners.chainer_backend import ChainerBackend\n",
    "\n",
    "# Agent Framework\n",
    "from chimp.agents import DQNAgent\n",
    "\n",
    "# Policy class for evaluation\n",
    "from chimp.utils.policies import DQNPolicy\n",
    "\n",
    "# initialize our mountain car simulator\n",
    "simulator = MountainCar()\n",
    "\n",
    "# initialize the netowrk\n",
    "net = CarNet()\n",
    "\n",
    "# Initialize the learner with a Chainer backend and out net\n",
    "backend = ChainerBackend(settings) # initialize with the settings dictionary\n",
    "backend.set_net(net) # set the net for our Chainer backend\n",
    "learner = DQNLearner(settings, backend) # create the learner\n",
    "\n",
    "# Initialize replay memory\n",
    "memory = ReplayMemoryHDF5(settings)\n",
    "\n",
    "# Initialize the DQNAgent\n",
    "agent = DQNAgent(learner, memory, simulator, settings) # pass in all 3 and settings\n",
    "\n",
    "# Start training\n",
    "agent.train(verbose=True)"
   ]
  },
  {
   "cell_type": "markdown",
   "metadata": {},
   "source": [
    "We can plot the training loss. "
   ]
  },
  {
   "cell_type": "code",
   "execution_count": 9,
   "metadata": {
    "collapsed": false
   },
   "outputs": [
    {
     "data": {
      "image/png": "[encoded data removed]",
      "text/plain": [
       "<matplotlib.figure.Figure at 0x106ce9b10>"
      ]
     },
     "metadata": {},
     "output_type": "display_data"
    }
   ],
   "source": [
    "from matplotlib import pyplot\n",
    "agent.plot_loss()"
   ]
  },
  {
   "cell_type": "markdown",
   "metadata": {},
   "source": [
    "We can also plot the evaluation history."
   ]
  },
  {
   "cell_type": "code",
   "execution_count": 10,
   "metadata": {
    "collapsed": false
   },
   "outputs": [
    {
     "data": {
      "image/png": "[encoded data removed]",
      "text/plain": [
       "<matplotlib.figure.Figure at 0x107523350>"
      ]
     },
     "metadata": {},
     "output_type": "display_data"
    }
   ],
   "source": [
    "agent.plot_eval_reward()"
   ]
  },
  {
   "cell_type": "markdown",
   "metadata": {},
   "source": [
    "Nothing interesting is happening yet. Our DQN hasn't learned how to reach the goal state. In fact, mountain car is a diffiuclt problem for reinforcement learning, because of it's sparse reward structure. The only positive reward comes from reaching the top of the mountain. Brute force training takes quite a while to train the DQN on this problem, so we use a pre-trained network. "
   ]
  },
  {
   "cell_type": "markdown",
   "metadata": {},
   "source": [
    "## Evaluation\n",
    "Let's evaluate our pre-trained network. Our pre-trained network had a different architecture. Let's define it and load it."
   ]
  },
  {
   "cell_type": "code",
   "execution_count": 11,
   "metadata": {
    "collapsed": true
   },
   "outputs": [],
   "source": [
    "# re-create our pre-trained network to load it from a pickle file\n",
    "class TestNet(Chain):\n",
    "\n",
    "    def __init__(self):\n",
    "        super(TestNet, self).__init__(\n",
    "            l1=F.Linear(2, 20, bias=0.0),\n",
    "            l2=F.Linear(20, 10, bias=0.0),\n",
    "            bn1=L.BatchNormalization(10),\n",
    "            l3=F.Linear(10, 10),\n",
    "            l4=F.Linear(10, 10),\n",
    "            bn2=L.BatchNormalization(10),\n",
    "            lout=F.Linear(10, 3)\n",
    "        )\n",
    "        self.train = True\n",
    "        # initialize avg_var to prevent divide by zero\n",
    "        self.bn1.avg_var.fill(0.1),\n",
    "        self.bn2.avg_var.fill(0.1),\n",
    "\n",
    "    def __call__(self, ohist, ahist):\n",
    "        h = F.relu(self.l1(ohist))\n",
    "        h = F.relu(self.l2(h))\n",
    "        h = self.bn1(h, test=not self.train)\n",
    "        h = F.relu(self.l3(h))\n",
    "        h = F.relu(self.l4(h))\n",
    "        h = self.bn2(h, test=not self.train)\n",
    "        output = self.lout(h)\n",
    "        return output\n"
   ]
  },
  {
   "cell_type": "markdown",
   "metadata": {},
   "source": [
    "Let's load the network."
   ]
  },
  {
   "cell_type": "code",
   "execution_count": 12,
   "metadata": {
    "collapsed": false
   },
   "outputs": [],
   "source": [
    "import pickle\n",
    "net = pickle.load(open(\"../chimp/pre_trained_nets/mountain_car.net\", \"rb\"))"
   ]
  },
  {
   "cell_type": "markdown",
   "metadata": {},
   "source": [
    "We use a simple simulator function to evaluate the DQN:"
   ]
  },
  {
   "cell_type": "code",
   "execution_count": 15,
   "metadata": {
    "collapsed": true
   },
   "outputs": [],
   "source": [
    "def car_sim(nsteps, simulator, policy, verbose=False):\n",
    "\n",
    "    # re-initialize the model\n",
    "    simulator.reset_episode()\n",
    "\n",
    "    rtot = 0.0\n",
    "    xpos = np.zeros(nsteps)\n",
    "    vel = np.zeros(nsteps)\n",
    "    # run the simulation\n",
    "    input_state = np.zeros((1,2), dtype=np.float32)\n",
    "    for i in xrange(nsteps):\n",
    "        state = simulator.get_screenshot()\n",
    "        input_state[0] = state\n",
    "        a = policy.action((input_state,None))\n",
    "        simulator.act(a)\n",
    "        r = simulator.reward()\n",
    "        rtot += r\n",
    "        xpos[i], vel[i] = state\n",
    "        if simulator.episode_over():\n",
    "            break\n",
    "    return rtot, xpos, vel"
   ]
  },
  {
   "cell_type": "markdown",
   "metadata": {},
   "source": [
    "We'll run a quick simulation and collect some statistics."
   ]
  },
  {
   "cell_type": "code",
   "execution_count": 18,
   "metadata": {
    "collapsed": false
   },
   "outputs": [],
   "source": [
    "backend = ChainerBackend(settings)\n",
    "backend.set_net(net)\n",
    "learner = DQNLearner(settings, backend)\n",
    "\n",
    "policy = DQNPolicy(learner)\n",
    "\n",
    "r, xtrace, vtrace = car_sim(300, simulator, policy, verbose=True)"
   ]
  },
  {
   "cell_type": "markdown",
   "metadata": {},
   "source": [
    "Now let's plot the positions and velocities. Note that the car reached the terminal state at around 200 time-steps."
   ]
  },
  {
   "cell_type": "code",
   "execution_count": 20,
   "metadata": {
    "collapsed": false
   },
   "outputs": [
    {
     "data": {
      "image/png": "[encoded data removed]",
      "text/plain": [
       "<matplotlib.figure.Figure at 0x106d1d750>"
      ]
     },
     "metadata": {},
     "output_type": "display_data"
    }
   ],
   "source": [
    "pyplot.plot(xtrace, label='Position'); pyplot.plot(10.0*vtrace, label='Velocity') # scale velcotiy so we can see it\n",
    "pyplot.legend(loc=4)\n",
    "pyplot.show()"
   ]
  },
  {
   "cell_type": "markdown",
   "metadata": {},
   "source": [
    "If you would like to see more examples of using Chimp check out the examples folder. If you want to see more implementations of simulators check out chimp/simulators"
   ]
  }
 ],
 "metadata": {
  "kernelspec": {
   "display_name": "Python 2",
   "language": "python",
   "name": "python2"
  },
  "language_info": {
   "codemirror_mode": {
    "name": "ipython",
    "version": 2
   },
   "file_extension": ".py",
   "mimetype": "text/x-python",
   "name": "python",
   "nbconvert_exporter": "python",
   "pygments_lexer": "ipython2",
   "version": "2.7.9"
  }
 },
 "nbformat": 4,
 "nbformat_minor": 0
}
