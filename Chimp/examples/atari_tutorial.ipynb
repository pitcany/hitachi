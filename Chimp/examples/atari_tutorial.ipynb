{
 "cells": [
  {
   "cell_type": "code",
   "execution_count": 1,
   "metadata": {
    "collapsed": true
   },
   "outputs": [],
   "source": [
    "# be sure to have run ' python setup.py ' from chimp director"
   ]
  },
  {
   "cell_type": "markdown",
   "metadata": {},
   "source": [
    "# Training DeepMind's Atari DQN with Chimp"
   ]
  },
  {
   "cell_type": "markdown",
   "metadata": {},
   "source": [
    "Load Chimp modules"
   ]
  },
  {
   "cell_type": "code",
   "execution_count": 2,
   "metadata": {
    "collapsed": false
   },
   "outputs": [],
   "source": [
    "from chimp.memories import ReplayMemoryHDF5\n",
    "\n",
    "from chimp.learners.dqn_learner import DQNLearner\n",
    "from chimp.learners.chainer_backend import ChainerBackend\n",
    "\n",
    "from chimp.simulators.atari import AtariSimulator\n",
    "\n",
    "from chimp.agents import DQNAgent"
   ]
  },
  {
   "cell_type": "markdown",
   "metadata": {},
   "source": [
    "Load Python packages"
   ]
  },
  {
   "cell_type": "code",
   "execution_count": 3,
   "metadata": {
    "collapsed": true
   },
   "outputs": [],
   "source": [
    "%matplotlib inline  \n",
    "import matplotlib.pyplot as plt\n",
    "\n",
    "import numpy as np\n",
    "import random\n",
    "import chainer\n",
    "import chainer.functions as F\n",
    "import chainer.links as L\n",
    "from chainer import Chain\n",
    "import os\n",
    "\n",
    "import pandas as ps"
   ]
  },
  {
   "cell_type": "markdown",
   "metadata": {},
   "source": [
    "Set training parameters"
   ]
  },
  {
   "cell_type": "code",
   "execution_count": 4,
   "metadata": {
    "collapsed": true
   },
   "outputs": [],
   "source": [
    "settings = {\n",
    "\n",
    "    # agent settings\n",
    "    'batch_size' : 32,\n",
    "    'print_every' : 5000,\n",
    "    'save_dir' : './results_atari',\n",
    "    'iterations' : 5000000,\n",
    "    'eval_iterations' : 5000,\n",
    "    'eval_every' : 50000,\n",
    "    'save_every' : 50000,\n",
    "    'initial_exploration' : 50000,\n",
    "    'epsilon_decay' : 0.000005, # subtract from epsilon every step\n",
    "    'eval_epsilon' : 0.05, # epsilon used in evaluation, 0 means no random actions\n",
    "    'epsilon' : 1.0,  # Initial exploratoin rate\n",
    "    'learn_freq' : 4,\n",
    "    'history_sizes' : (4, 0, 0), # sizes of histories to use as nn inputs (o, a, r)\n",
    "    'model_dims' : (84,84),\n",
    "    \n",
    "    # Atari settings\n",
    "    'rom' : \"Breakout.bin\",\n",
    "    'rom_dir' :  './roms',\n",
    "    'pad' : 15, # padding parameter - for image cropping - only along the length of the image, to obtain a square\n",
    "    'action_history' : True,\n",
    "\n",
    "    # simulator settings\n",
    "    'viz' : True,\n",
    "    'viz_cropped' : False,\n",
    "\n",
    "    # replay memory settings\n",
    "    'memory_size' : 1000000,  # size of replay memory\n",
    "    'frame_skip' : 4,  # number of frames to skip\n",
    "\n",
    "    # learner settings\n",
    "    'learning_rate' : 0.00025, \n",
    "    'decay_rate' : 0.95, # decay rate for RMSprop, otherwise not used\n",
    "    'discount' : 0.99, # discount rate for RL\n",
    "    'clip_err' : False, # value to clip loss gradients to\n",
    "    'clip_reward' : 1, # value to clip reward values to\n",
    "    'target_net_update' : 10000, # update the update-generating target net every fixed number of iterations\n",
    "    'optim_name' : 'RMSprop', # currently supports \"RMSprop\", \"ADADELTA\", \"ADAM\" and \"SGD\"'\n",
    "    'gpu' : True,\n",
    "    'reward_rescale': False,\n",
    "\n",
    "    # general\n",
    "    'seed_general' : 1723,\n",
    "    'seed_simulator' : 5632,\n",
    "    'seed_agent' : 9826,\n",
    "    'seed_memory' : 7563\n",
    "\n",
    "    }"
   ]
  },
  {
   "cell_type": "markdown",
   "metadata": {},
   "source": [
    "You may want to set a smaller number of iterations (like 100000) - for illustration purposes. We set the GPU option to True, turn it off if your machine does not support it. Be sure to have the requested rom in the indicated directory."
   ]
  },
  {
   "cell_type": "code",
   "execution_count": 5,
   "metadata": {
    "collapsed": true
   },
   "outputs": [],
   "source": [
    "# set random seed\n",
    "np.random.seed(settings[\"seed_general\"])\n",
    "random.seed(settings[\"seed_general\"])"
   ]
  },
  {
   "cell_type": "markdown",
   "metadata": {},
   "source": [
    "Now we initialize the simulator first, as we need to use some information it provides - e.g., number of actions."
   ]
  },
  {
   "cell_type": "code",
   "execution_count": 6,
   "metadata": {
    "collapsed": false
   },
   "outputs": [
    {
     "name": "stdout",
     "output_type": "stream",
     "text": [
      "Original screen width/height: 160/210\n",
      "Cropped screen width/height: 84/84\n"
     ]
    }
   ],
   "source": [
    "simulator = AtariSimulator(settings)"
   ]
  },
  {
   "cell_type": "markdown",
   "metadata": {},
   "source": [
    "Here we define the convolutional network, in a format required by Chainer - the deep learning library we use."
   ]
  },
  {
   "cell_type": "code",
   "execution_count": 7,
   "metadata": {
    "collapsed": false
   },
   "outputs": [],
   "source": [
    "#Define the network\n",
    "class Convolution(Chain):\n",
    "\n",
    "    def __init__(self):\n",
    "        super(Convolution, self).__init__(\n",
    "            l1=F.Convolution2D(settings['history_sizes'][0], 32, ksize=8, stride=4, nobias=False, wscale=np.sqrt(2)),\n",
    "            l2=F.Convolution2D(32, 64, ksize=4, stride=2, nobias=False, wscale=np.sqrt(2)),\n",
    "            l3=F.Convolution2D(64, 64, ksize=3, stride=1, nobias=False, wscale=np.sqrt(2)),\n",
    "            l4=F.Linear(3136, 512, wscale = np.sqrt(2)),\n",
    "            l5=F.Linear(512, simulator.n_actions, wscale = np.sqrt(2)),\n",
    "        )\n",
    "\n",
    "    def __call__(self, ohist, ahist):\n",
    "        if len(ohist.data.shape) < 4:\n",
    "            ohist = F.reshape(ohist,(1,4,84,84))\n",
    "        h1 = F.relu(self.l1(ohist/255.0))\n",
    "        h2 = F.relu(self.l2(h1))\n",
    "        h3 = F.relu(self.l3(h2))\n",
    "        h4 = F.relu(self.l4(h3))\n",
    "        output = self.l5(h4)\n",
    "        return output\n",
    "\n",
    "net = Convolution()"
   ]
  },
  {
   "cell_type": "markdown",
   "metadata": {},
   "source": [
    "We then initialize the learner + chainer backend, replay memory, and agent modules."
   ]
  },
  {
   "cell_type": "code",
   "execution_count": 8,
   "metadata": {
    "collapsed": false
   },
   "outputs": [],
   "source": [
    "backend = ChainerBackend(settings)\n",
    "backend.set_net(net)\n",
    "learner = DQNLearner(settings, backend)"
   ]
  },
  {
   "cell_type": "code",
   "execution_count": 9,
   "metadata": {
    "collapsed": false
   },
   "outputs": [],
   "source": [
    "memory = ReplayMemoryHDF5(settings)"
   ]
  },
  {
   "cell_type": "code",
   "execution_count": 10,
   "metadata": {
    "collapsed": false
   },
   "outputs": [],
   "source": [
    "agent = DQNAgent(learner, memory, simulator, settings)"
   ]
  },
  {
   "cell_type": "markdown",
   "metadata": {},
   "source": [
    "Now let the agent train."
   ]
  },
  {
   "cell_type": "code",
   "execution_count": null,
   "metadata": {
    "collapsed": true
   },
   "outputs": [],
   "source": [
    "agent.train()"
   ]
  },
  {
   "cell_type": "markdown",
   "metadata": {},
   "source": [
    "# Visualizing results"
   ]
  },
  {
   "cell_type": "markdown",
   "metadata": {},
   "source": [
    "First, let's visualize the training and evaluation results."
   ]
  },
  {
   "cell_type": "code",
   "execution_count": 11,
   "metadata": {
    "collapsed": false
   },
   "outputs": [],
   "source": [
    "train_stats = ps.read_csv('%s/training_history.csv' % settings['save_dir'],delimiter=' ',header=None)\n",
    "train_stats.columns = ['Iteration','MSE Loss','Average Q-Value']"
   ]
  },
  {
   "cell_type": "code",
   "execution_count": 12,
   "metadata": {
    "collapsed": true
   },
   "outputs": [],
   "source": [
    "eval_stats = ps.read_csv('%s/evaluation_history.csv' % settings['save_dir'],delimiter=' ',header=None)\n",
    "eval_stats.columns = ['Iteration','Total Reward','Reward per Episode']"
   ]
  },
  {
   "cell_type": "code",
   "execution_count": 13,
   "metadata": {
    "collapsed": false
   },
   "outputs": [
    {
     "data": {
      "image/png": "[encoded data removed]",
      "text/plain": [
       "<matplotlib.figure.Figure at 0x119080f50>"
      ]
     },
     "metadata": {},
     "output_type": "display_data"
    }
   ],
   "source": [
    "plt.plot(eval_stats['Iteration'], eval_stats['Reward per Episode'])\n",
    "plt.xlabel(\"Iteration\")\n",
    "plt.ylabel(\"Avg. Reward per Episode\")\n",
    "plt.grid(True)\n",
    "#plt.savefig(settings['save_dir'] + '_' + \"evaluation_reward.svg\", bbox_inches='tight')\n",
    "plt.show()\n",
    "plt.close()"
   ]
  },
  {
   "cell_type": "code",
   "execution_count": 14,
   "metadata": {
    "collapsed": false
   },
   "outputs": [
    {
     "data": {
      "image/png": "[encoded data removed]",
      "text/plain": [
       "<matplotlib.figure.Figure at 0x1190c8350>"
      ]
     },
     "metadata": {},
     "output_type": "display_data"
    }
   ],
   "source": [
    "plt.plot(train_stats['Iteration'], train_stats['Average Q-Value'])\n",
    "plt.xlabel(\"Iteration\")\n",
    "plt.ylabel(\"Avg. Q-Values\")\n",
    "plt.grid(True)\n",
    "#plt.savefig(settings['save_dir'] + '_' + \"training_q_values.svg\", bbox_inches='tight')\n",
    "plt.show()\n",
    "plt.close()"
   ]
  },
  {
   "cell_type": "markdown",
   "metadata": {},
   "source": [
    "# Evaluating the best policy"
   ]
  },
  {
   "cell_type": "markdown",
   "metadata": {},
   "source": [
    "Let's load the network that collected the highest reward per game episode"
   ]
  },
  {
   "cell_type": "code",
   "execution_count": 15,
   "metadata": {
    "collapsed": true
   },
   "outputs": [],
   "source": [
    "best_iteration_index = np.argmax(eval_stats['Reward per Episode'])\n",
    "best_iteration = str(int(eval_stats['Iteration'][best_iteration_index]))"
   ]
  },
  {
   "cell_type": "code",
   "execution_count": 16,
   "metadata": {
    "collapsed": false
   },
   "outputs": [
    {
     "data": {
      "text/plain": [
       "'4500000'"
      ]
     },
     "execution_count": 16,
     "metadata": {},
     "output_type": "execute_result"
    }
   ],
   "source": [
    "best_iteration "
   ]
  },
  {
   "cell_type": "code",
   "execution_count": 17,
   "metadata": {
    "collapsed": true
   },
   "outputs": [],
   "source": [
    "agent.learner.load_net(settings['save_dir']+'/net_' + best_iteration + '.p')"
   ]
  },
  {
   "cell_type": "code",
   "execution_count": 18,
   "metadata": {
    "collapsed": false
   },
   "outputs": [],
   "source": [
    "r_tot, r_per_episode, runtime = agent.simulate(10000, epsilon=0.05, viz=True)"
   ]
  },
  {
   "cell_type": "code",
   "execution_count": 19,
   "metadata": {
    "collapsed": false
   },
   "outputs": [
    {
     "data": {
      "text/plain": [
       "17.6"
      ]
     },
     "execution_count": 19,
     "metadata": {},
     "output_type": "execute_result"
    }
   ],
   "source": [
    "r_per_episode"
   ]
  },
  {
   "cell_type": "code",
   "execution_count": null,
   "metadata": {
    "collapsed": true
   },
   "outputs": [],
   "source": []
  }
 ],
 "metadata": {
  "kernelspec": {
   "display_name": "Python 2",
   "language": "python",
   "name": "python2"
  },
  "language_info": {
   "codemirror_mode": {
    "name": "ipython",
    "version": 2
   },
   "file_extension": ".py",
   "mimetype": "text/x-python",
   "name": "python",
   "nbconvert_exporter": "python",
   "pygments_lexer": "ipython2",
   "version": "2.7.11"
  }
 },
 "nbformat": 4,
 "nbformat_minor": 0
}
